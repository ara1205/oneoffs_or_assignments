{
 "cells": [
  {
   "cell_type": "markdown",
   "metadata": {},
   "source": [
    "Andrew Alexandru; 30065419\n",
    "\n",
    "Run main() at the bottom, output, either displayed or is saved as csv where ever this file is run from. Only used libaries are csv and matplotlib.pyplot."
   ]
  },
  {
   "cell_type": "code",
   "execution_count": 1,
   "metadata": {
    "scrolled": false
   },
   "outputs": [],
   "source": [
    "#askes for csv file and converts to list of lists\n",
    "#input: none\n",
    "#output: list of lists\n",
    "def datainput():    \n",
    "    datafile = open(input(\"Enter filename: \"))\n",
    "    dataRows = datafile.read().split(\"\\n\")\n",
    "    datafile.close()\n",
    "    data = []\n",
    "\n",
    "    for row in dataRows:\n",
    "        data.append(row.split(\",\"))\n",
    "    \n",
    "    for row in data:\n",
    "        for element in row[:]:\n",
    "            if element == \"\":\n",
    "                row.remove(element)\n",
    "    for row in data:\n",
    "        if row == []:\n",
    "            data.remove(row)\n",
    "\n",
    "    return data"
   ]
  },
  {
   "cell_type": "code",
   "execution_count": 2,
   "metadata": {
    "scrolled": false
   },
   "outputs": [],
   "source": [
    "#transposes list of list to make it eaiser to work with\n",
    "#input: list of lists\n",
    "#output: list of lists\n",
    "def datatrans(data):\n",
    "    newdata = list(map(list, zip(*data)))\n",
    "    return newdata            "
   ]
  },
  {
   "cell_type": "code",
   "execution_count": 3,
   "metadata": {},
   "outputs": [],
   "source": [
    "#is the string a number\n",
    "#input: str\n",
    "#output: boolean\n",
    "def is_number(s):\n",
    "    try:\n",
    "        float(s)\n",
    "        return True\n",
    "    except ValueError:\n",
    "        return False"
   ]
  },
  {
   "cell_type": "code",
   "execution_count": 4,
   "metadata": {},
   "outputs": [],
   "source": [
    "#how many strs in a list\n",
    "#input: list of lists, column index\n",
    "#output: float\n",
    "def stramount(data,colnum):\n",
    "    str = 0\n",
    "    for element in data[colnum]:\n",
    "        try:\n",
    "            float(element)\n",
    "        except:\n",
    "            str = str + 1\n",
    "    \n",
    "    return str"
   ]
  },
  {
   "cell_type": "code",
   "execution_count": 5,
   "metadata": {},
   "outputs": [],
   "source": [
    "#max number in a list\n",
    "#input: list of lists, column index\n",
    "#output: float\n",
    "def colmax(data,colnum):\n",
    "    col = data[colnum].copy()\n",
    "    if stramount(data,colnum) > 1:\n",
    "        max = \"n/a\"\n",
    "    else:\n",
    "        del col[0]\n",
    "        max = col[0]\n",
    "        for element in col:\n",
    "            if float(element) > float(max):\n",
    "                max = element\n",
    "    return max"
   ]
  },
  {
   "cell_type": "code",
   "execution_count": 6,
   "metadata": {},
   "outputs": [],
   "source": [
    "#min number in a list\n",
    "#input: list of lists, column index\n",
    "#output: float\n",
    "def colmin(data,colnum):\n",
    "    col = data[colnum].copy()\n",
    "    if stramount(data,colnum) > 1:\n",
    "        min = \"n/a\"\n",
    "    else:\n",
    "        del col[0]\n",
    "        min = col[0]\n",
    "        for element in col:\n",
    "            if float(element) < float(min):\n",
    "                min = element\n",
    "    return min"
   ]
  },
  {
   "cell_type": "code",
   "execution_count": 7,
   "metadata": {},
   "outputs": [],
   "source": [
    "#avg of a list\n",
    "#input: list of lists, column index\n",
    "#output: float\n",
    "def colavg(data,colnum):\n",
    "    col = data[colnum].copy()\n",
    "    if stramount(data,colnum) > 1:\n",
    "        avg = \"n/a\"\n",
    "    else:\n",
    "        del col[0]\n",
    "        sum = 0\n",
    "        count = 0\n",
    "        for element in col:\n",
    "            sum = sum + float(element)\n",
    "            count = count + 1\n",
    "        \n",
    "        avg = sum / count\n",
    "    \n",
    "    return avg"
   ]
  },
  {
   "cell_type": "code",
   "execution_count": 8,
   "metadata": {},
   "outputs": [],
   "source": [
    "#std of a list\n",
    "#input: list of lists, column index\n",
    "#output: float\n",
    "def coldev(data,colnum):\n",
    "    col = data[colnum].copy()\n",
    "    if len(col) - stramount(data,colnum) <= 2:\n",
    "        std = \"n/a\"\n",
    "    else:\n",
    "        del col[0]\n",
    "        colfl = []\n",
    "        for element in col:\n",
    "            if is_number(element) == True:\n",
    "                colfl.append(float(element))\n",
    "\n",
    "        mean = sum(colfl) / len(colfl)\n",
    "        var  = sum(pow(x-mean,2) for x in colfl) / len(colfl)\n",
    "        std  = pow(var,0.5)\n",
    "    \n",
    "    return std"
   ]
  },
  {
   "cell_type": "code",
   "execution_count": 9,
   "metadata": {},
   "outputs": [],
   "source": [
    "#finds most and least common element of a list\n",
    "#input: list of lists, column index\n",
    "#output: str(most), str(least)\n",
    "def common(data,colnum):\n",
    "    col = data[colnum].copy()\n",
    "    del col[0]\n",
    "    dic = {}\n",
    "    for element in col:\n",
    "        if element in dic:\n",
    "            dic[element] = dic[element] + 1\n",
    "        else:\n",
    "            dic[element] = 1\n",
    "    \n",
    "    maxelement = \"null\"\n",
    "    maxcount = 0\n",
    "    for element, count in dic.items():\n",
    "        if count > maxcount:\n",
    "            maxelement = element\n",
    "            maxcount = count\n",
    "    \n",
    "    minelement = \"null\"\n",
    "    mincount = float('inf')\n",
    "    for element, count in dic.items():\n",
    "        if count < mincount:\n",
    "            minelement = element\n",
    "            mincount = count\n",
    "    \n",
    "    return maxelement,minelement"
   ]
  },
  {
   "cell_type": "code",
   "execution_count": 10,
   "metadata": {},
   "outputs": [],
   "source": [
    "#tests of the column has only numbers\n",
    "#input: list of lists, column index\n",
    "#output: boolean\n",
    "def numcol(data,colnum):\n",
    "    if stramount(data,colnum) == 1:\n",
    "        return True\n",
    "    else:\n",
    "        return False"
   ]
  },
  {
   "cell_type": "code",
   "execution_count": 11,
   "metadata": {},
   "outputs": [],
   "source": [
    "#outputs the name (first element of a list)\n",
    "#input: list of lists, column index\n",
    "#output: str\n",
    "def colname(data,colnum):\n",
    "    col = data[colnum]\n",
    "    return col[0]"
   ]
  },
  {
   "cell_type": "code",
   "execution_count": 12,
   "metadata": {},
   "outputs": [],
   "source": [
    "#Seperates data from a list into 5 equal bins\n",
    "#input: list of lists, column index\n",
    "#output: dictionary (key written as a str, values as int)\n",
    "def createbins(data,colnum):\n",
    "    if numcol(data,colnum) == True:\n",
    "        binsize = (float(colmax(data,colnum)) - float(colmin(data,colnum))) / 5\n",
    "        bins = []\n",
    "        for x in range(6):\n",
    "            bins.append(float(colmin(data,colnum))+ binsize * x)\n",
    "        \n",
    "        histo = {str(bins[0]) + \" - \" + str(bins[1]):0 , str(bins[1]) + \" - \" + str(bins[2]):0 , str(bins[2]) + \" - \" + str(bins[3]):0 , str(bins[3]) + \" - \" + str(bins[4]):0 , str(bins[4]) + \" - \" + str(bins[5]):0}\n",
    "        \n",
    "        for element in data[colnum]:\n",
    "            \n",
    "            if element < str(bins[1]):\n",
    "                histo[str(bins[0]) + \" - \" + str(bins[1])] = histo[str(bins[0]) + \" - \" + str(bins[1])] + 1\n",
    "            elif element < str(bins[2]):\n",
    "                histo[str(bins[1]) + \" - \" + str(bins[2])] = histo[str(bins[1]) + \" - \" + str(bins[2])] + 1\n",
    "            elif element < str(bins[3]):\n",
    "                histo[str(bins[2]) + \" - \" + str(bins[3])] = histo[str(bins[2]) + \" - \" + str(bins[3])] + 1\n",
    "            elif element < str(bins[4]):\n",
    "                histo[str(bins[3]) + \" - \" + str(bins[4])] = histo[str(bins[3]) + \" - \" + str(bins[4])] + 1\n",
    "            elif element < str(bins[5]):\n",
    "                histo[str(bins[4]) + \" - \" + str(bins[5])] = histo[str(bins[4]) + \" - \" + str(bins[5])] + 1\n",
    "        \n",
    "        return histo\n",
    "    else:\n",
    "        return \"Error: non numeric col\""
   ]
  },
  {
   "cell_type": "code",
   "execution_count": 21,
   "metadata": {},
   "outputs": [],
   "source": [
    "#draws a bar chart that acts as a histogram\n",
    "#input: dictionary\n",
    "#output: null (shows the plot)\n",
    "import matplotlib.pyplot as plt\n",
    "\n",
    "def createhisto(data,colnum):\n",
    "    histodata = createbins(data,colnum)\n",
    "\n",
    "    labels = []\n",
    "    for label in histodata:\n",
    "        labels.append(label)\n",
    "\n",
    "    valuelist = []\n",
    "    for values in histodata.values():\n",
    "        valuelist.append(values)\n",
    "\n",
    "    \n",
    "    yaxis = max(valuelist)\n",
    "    fig = plt.figure()\n",
    "    ax = fig.add_axes([0,0,2,2])\n",
    "    plt.ylim([0,yaxis])\n",
    "    ax.bar(labels,valuelist)\n",
    "    plt.title(colname(data,colnum))\n",
    "    plt.show()\n",
    "    \n",
    "    return"
   ]
  },
  {
   "cell_type": "code",
   "execution_count": 22,
   "metadata": {},
   "outputs": [],
   "source": [
    "#Runs most functions above on every column of data. It also formats the list of lists into a proper csv (note the blank element in cols)\n",
    "#input: list of lists\n",
    "#output: list of lists\n",
    "def infocompile(data):\n",
    "    \n",
    "    output = []\n",
    "    cols = ['']\n",
    "    for element in data:\n",
    "        cols.append(element[0])\n",
    "    output.append(cols)\n",
    "    \n",
    "    max = ['max']\n",
    "    for colnum in range(len(cols)-1):\n",
    "        max.append(colmax(data,colnum))\n",
    "    output.append(max)\n",
    "    \n",
    "    min = ['min']\n",
    "    for colnum in range(len(cols)-1):\n",
    "        min.append(colmin(data,colnum))\n",
    "    output.append(min)\n",
    "    \n",
    "    avg = ['avg']\n",
    "    for colnum in range(len(cols)-1):\n",
    "        avg.append(colavg(data,colnum))\n",
    "    output.append(avg)\n",
    "    \n",
    "    dev = ['std']\n",
    "    for colnum in range(len(cols)-1):\n",
    "        dev.append(coldev(data,colnum))\n",
    "    output.append(dev)\n",
    "    \n",
    "    most = ['most']\n",
    "    least = ['least']\n",
    "    for colnum in range(len(cols)-1):\n",
    "        mostv, leastv = common(data,colnum)\n",
    "        most.append(mostv)\n",
    "        least.append(leastv)\n",
    "    output.append(most)\n",
    "    output.append(least)\n",
    "    \n",
    "    return output"
   ]
  },
  {
   "cell_type": "code",
   "execution_count": 45,
   "metadata": {},
   "outputs": [],
   "source": [
    "#Draws all the histograms for all numeric columns\n",
    "#input: list of lists, list of lists\n",
    "#output: null\n",
    "def histo(data,output):\n",
    "    \n",
    "    cols = output[0]\n",
    "    for colnum in range(len(cols)-1):\n",
    "        if numcol(data,colnum) == True:\n",
    "            createhisto(data,colnum)"
   ]
  },
  {
   "cell_type": "code",
   "execution_count": 1,
   "metadata": {},
   "outputs": [],
   "source": [
    "#main function which also takes the output list of lists and saves it as a csv value\n",
    "#input: null\n",
    "#output: null\n",
    "import csv\n",
    "\n",
    "def main():\n",
    "    data = datatrans(datainput())\n",
    "    output = infocompile(data)\n",
    "    outputcopy = output.copy()\n",
    "    \n",
    "    print(\"Saved as csv file\")\n",
    "    \n",
    "    with open(\"output.csv\", \"w\", newline=\"\") as f:\n",
    "       writer = csv.writer(f)\n",
    "       writer.writerows(outputcopy)\n",
    "    with open('output.csv', newline='') as csvfile:\n",
    "     outputcopy = csv.reader(csvfile, delimiter=' ')\n",
    "     for row in outputcopy:\n",
    "       print(', '.join(row))\n",
    "    \n",
    "    histo(data,output)\n",
    "    \n",
    "    return"
   ]
  },
  {
   "cell_type": "code",
   "execution_count": 2,
   "metadata": {},
   "outputs": [
    {
     "ename": "NameError",
     "evalue": "name 'datatrans' is not defined",
     "output_type": "error",
     "traceback": [
      "\u001b[1;31m---------------------------------------------------------------------------\u001b[0m",
      "\u001b[1;31mNameError\u001b[0m                                 Traceback (most recent call last)",
      "\u001b[1;32m<ipython-input-2-263240bbee7e>\u001b[0m in \u001b[0;36m<module>\u001b[1;34m\u001b[0m\n\u001b[1;32m----> 1\u001b[1;33m \u001b[0mmain\u001b[0m\u001b[1;33m(\u001b[0m\u001b[1;33m)\u001b[0m\u001b[1;33m\u001b[0m\u001b[1;33m\u001b[0m\u001b[0m\n\u001b[0m",
      "\u001b[1;32m<ipython-input-1-6c3b11283f4e>\u001b[0m in \u001b[0;36mmain\u001b[1;34m()\u001b[0m\n\u001b[0;32m      5\u001b[0m \u001b[1;33m\u001b[0m\u001b[0m\n\u001b[0;32m      6\u001b[0m \u001b[1;32mdef\u001b[0m \u001b[0mmain\u001b[0m\u001b[1;33m(\u001b[0m\u001b[1;33m)\u001b[0m\u001b[1;33m:\u001b[0m\u001b[1;33m\u001b[0m\u001b[1;33m\u001b[0m\u001b[0m\n\u001b[1;32m----> 7\u001b[1;33m     \u001b[0mdata\u001b[0m \u001b[1;33m=\u001b[0m \u001b[0mdatatrans\u001b[0m\u001b[1;33m(\u001b[0m\u001b[0mdatainput\u001b[0m\u001b[1;33m(\u001b[0m\u001b[1;33m)\u001b[0m\u001b[1;33m)\u001b[0m\u001b[1;33m\u001b[0m\u001b[1;33m\u001b[0m\u001b[0m\n\u001b[0m\u001b[0;32m      8\u001b[0m     \u001b[0moutput\u001b[0m \u001b[1;33m=\u001b[0m \u001b[0minfocompile\u001b[0m\u001b[1;33m(\u001b[0m\u001b[0mdata\u001b[0m\u001b[1;33m)\u001b[0m\u001b[1;33m\u001b[0m\u001b[1;33m\u001b[0m\u001b[0m\n\u001b[0;32m      9\u001b[0m     \u001b[0moutputcopy\u001b[0m \u001b[1;33m=\u001b[0m \u001b[0moutput\u001b[0m\u001b[1;33m.\u001b[0m\u001b[0mcopy\u001b[0m\u001b[1;33m(\u001b[0m\u001b[1;33m)\u001b[0m\u001b[1;33m\u001b[0m\u001b[1;33m\u001b[0m\u001b[0m\n",
      "\u001b[1;31mNameError\u001b[0m: name 'datatrans' is not defined"
     ]
    }
   ],
   "source": [
    "main()"
   ]
  },
  {
   "cell_type": "code",
   "execution_count": null,
   "metadata": {},
   "outputs": [],
   "source": []
  }
 ],
 "metadata": {
  "kernelspec": {
   "display_name": "Python 3",
   "language": "python",
   "name": "python3"
  },
  "language_info": {
   "codemirror_mode": {
    "name": "ipython",
    "version": 3
   },
   "file_extension": ".py",
   "mimetype": "text/x-python",
   "name": "python",
   "nbconvert_exporter": "python",
   "pygments_lexer": "ipython3",
   "version": "3.8.3"
  }
 },
 "nbformat": 4,
 "nbformat_minor": 4
}
